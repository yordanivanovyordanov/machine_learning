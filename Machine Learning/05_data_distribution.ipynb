{
 "cells": [
  {
   "cell_type": "markdown",
   "metadata": {},
   "source": [
    "## Data Distribution\n",
    "\n",
    "Earlier in this tutorial we have worked with very small amounts of data in our examples, just to understand the different concepts.\n",
    "\n",
    "In the real world, the data sets are much bigger, but it can be difficult to gather real world data, at least at an early stage of a project."
   ]
  },
  {
   "cell_type": "markdown",
   "metadata": {},
   "source": [
    "## How Can we Get Big Data Sets?\n",
    "\n",
    "To create big data sets for testing, we use the Python module NumPy, which comes with a number of methods to create random data sets, of any size."
   ]
  },
  {
   "cell_type": "markdown",
   "metadata": {},
   "source": [
    "Example\n",
    "\n",
    "Create an array containing 250 random floats between 0 and 5:"
   ]
  },
  {
   "cell_type": "code",
   "execution_count": 1,
   "metadata": {},
   "outputs": [
    {
     "name": "stdout",
     "output_type": "stream",
     "text": [
      "[3.05102598 0.59794875 3.56108986 1.08244093 1.55626132 3.42731576\n",
      " 0.29633399 2.80231778 4.91387033 1.8104091  2.60641265 0.96570797\n",
      " 1.97749649 3.81090419 1.2882204  0.75889654 4.1575814  0.90726331\n",
      " 4.4071794  2.78685057 1.82470156 4.93641416 4.34679854 3.29921392\n",
      " 4.56518735 0.85700749 4.20883724 4.08597421 1.91697728 1.52866456\n",
      " 3.28476648 4.6599674  0.15202988 2.20953302 2.66312835 4.96177185\n",
      " 3.10159088 2.15017236 1.08873924 1.99190151 4.82131641 3.51591297\n",
      " 4.1649751  1.07882376 1.9710089  2.01960153 0.2876034  2.688277\n",
      " 2.61940865 1.75899731 2.4896207  3.07335319 1.38659958 0.50076561\n",
      " 4.75517448 4.4144983  0.30433759 3.10820308 2.39223563 4.46746373\n",
      " 3.54880506 0.10380155 2.82621886 3.05540006 4.23380286 2.81400058\n",
      " 3.51876158 0.64667064 4.69771592 1.97844566 3.96924059 4.7377739\n",
      " 0.2746624  1.02572103 0.80591356 0.95142248 2.21004856 0.50875137\n",
      " 1.86295247 4.16110174 0.14060996 4.0113527  0.53912885 3.76166465\n",
      " 2.00375187 4.97175014 2.1069577  2.67982996 2.37598299 2.32035916\n",
      " 1.64565277 4.05873673 2.28748267 1.94744268 4.43756229 4.67296871\n",
      " 0.8016256  4.40033071 4.76103162 2.6161686  1.39505181 4.67845287\n",
      " 1.72103648 2.05053784 0.728648   4.92201346 2.2338485  0.02428035\n",
      " 0.04030323 0.24615612 0.25431093 4.50793884 2.03534719 2.89437955\n",
      " 4.94114949 1.79014491 3.20584958 2.00740957 0.04374971 2.73751409\n",
      " 4.29350638 1.81160656 4.91488489 0.75193876 0.54714562 0.81063485\n",
      " 1.31533999 1.09033343 4.58132086 1.2047873  4.81165003 4.00775968\n",
      " 3.20608187 1.14767061 0.57393101 4.0761313  3.64307655 3.18564743\n",
      " 3.15708974 3.91636518 4.93946716 1.36030213 4.90652624 4.73650087\n",
      " 1.7878182  2.41899494 1.37000137 0.70223174 4.77369537 4.02468175\n",
      " 2.3768066  3.83806734 3.98896578 4.8351208  3.55281446 0.7954548\n",
      " 3.37872532 3.87817786 4.73466893 1.51073963 3.84829938 3.24628484\n",
      " 2.81214729 1.73617638 3.35092656 3.54791255 1.08941345 2.12707476\n",
      " 4.91271526 2.16434529 4.8770084  3.75959457 4.95511259 0.01658883\n",
      " 0.49372762 2.08388703 3.66515546 3.2046633  1.49961659 0.67679738\n",
      " 4.59439923 2.77851405 1.43560991 2.47945213 1.6249625  0.77533894\n",
      " 1.43986346 4.20468242 2.77397598 2.9936653  4.27129948 4.93777205\n",
      " 3.96023954 1.88921129 4.55635479 1.78012831 3.111624   2.77029516\n",
      " 4.68946192 1.04434015 3.36173133 2.36072812 4.05273455 1.34004376\n",
      " 2.70161065 2.44085944 1.77370871 3.68257332 4.23046249 4.24439201\n",
      " 1.34181388 3.85944704 1.1635392  1.61720545 0.12301555 0.1382224\n",
      " 0.05222698 2.25072818 1.18977775 2.86357254 3.9405006  4.99183685\n",
      " 3.10258037 0.41143807 2.04890527 0.55545994 2.24580919 3.35136965\n",
      " 4.49288052 1.28627514 0.32333518 2.97465338 3.84234851 3.56731671\n",
      " 1.47573284 0.04275373 1.13935031 1.84180244 3.03404418 0.44100001\n",
      " 3.26578899 0.6191238  1.29609663 0.04654397 2.29076669 0.78342733\n",
      " 2.11263357 1.0932583  3.38582376 2.79999132]\n"
     ]
    }
   ],
   "source": [
    "import numpy\n",
    "\n",
    "x = numpy.random.uniform(0.0, 5.0, 250)\n",
    "\n",
    "print(x)"
   ]
  },
  {
   "cell_type": "markdown",
   "metadata": {},
   "source": [
    "## Histogram\n",
    "\n",
    "To visualize the data set we can draw a histogram with the data we collected.\n",
    "\n",
    "We will use the Python module Matplotlib to draw a histogram."
   ]
  },
  {
   "cell_type": "markdown",
   "metadata": {},
   "source": [
    "Example\n",
    "\n",
    "Draw a histogram:"
   ]
  },
  {
   "cell_type": "code",
   "execution_count": 2,
   "metadata": {},
   "outputs": [
    {
     "data": {
      "image/png": "[encoded data removed]",
      "text/plain": [
       "<Figure size 432x288 with 1 Axes>"
      ]
     },
     "metadata": {
      "needs_background": "light"
     },
     "output_type": "display_data"
    }
   ],
   "source": [
    "import numpy\n",
    "import matplotlib.pyplot as plt\n",
    "\n",
    "x = numpy.random.uniform(0.0, 5.0, 250)\n",
    "\n",
    "plt.hist(x, 5)\n",
    "plt.show()"
   ]
  },
  {
   "cell_type": "markdown",
   "metadata": {},
   "source": [
    "## Big Data Distributions\n",
    "\n",
    "An array containing 250 values is not considered very big, but now you know how to create a random set of values, and by changing the parameters, you can create the data set as big as you want."
   ]
  },
  {
   "cell_type": "markdown",
   "metadata": {},
   "source": [
    "Example\n",
    "\n",
    "Create an array with 10000 random numbers, and display them using a histogram with 100 bars:"
   ]
  },
  {
   "cell_type": "code",
   "execution_count": 3,
   "metadata": {},
   "outputs": [
    {
     "data": {
      "image/png": "[encoded data removed]",
      "text/plain": [
       "<Figure size 432x288 with 1 Axes>"
      ]
     },
     "metadata": {
      "needs_background": "light"
     },
     "output_type": "display_data"
    }
   ],
   "source": [
    "import numpy\n",
    "import matplotlib.pyplot as plt\n",
    "\n",
    "x = numpy.random.uniform(0.0, 5.0, 10000)\n",
    "\n",
    "plt.hist(x, 100)\n",
    "plt.show()"
   ]
  }
 ],
 "metadata": {
  "kernelspec": {
   "display_name": "Python 3",
   "language": "python",
   "name": "python3"
  },
  "language_info": {
   "codemirror_mode": {
    "name": "ipython",
    "version": 3
   },
   "file_extension": ".py",
   "mimetype": "text/x-python",
   "name": "python",
   "nbconvert_exporter": "python",
   "pygments_lexer": "ipython3",
   "version": "3.8.3"
  }
 },
 "nbformat": 4,
 "nbformat_minor": 4
}
